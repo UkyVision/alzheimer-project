{
 "cells": [
  {
   "cell_type": "code",
   "execution_count": 1,
   "metadata": {},
   "outputs": [],
   "source": [
    "import os\n",
    "import numpy as np\n",
    "import utilities as UT"
   ]
  },
  {
   "cell_type": "code",
   "execution_count": 2,
   "metadata": {},
   "outputs": [],
   "source": [
    "img_root = '/data/scratch/xxing/adni_dl/Preprocessed/ADNI2_MRI'\n",
    "#folders = os.listdir(img_root)"
   ]
  },
  {
   "cell_type": "code",
   "execution_count": 3,
   "metadata": {},
   "outputs": [],
   "source": [
    "folders=['CN', 'AD']"
   ]
  },
  {
   "cell_type": "code",
   "execution_count": 4,
   "metadata": {},
   "outputs": [],
   "source": [
    "fold_0 = []\n",
    "fold_1 = []\n",
    "fold_2 = []\n",
    "fold_3 = []\n",
    "fold_4 = []\n",
    "\n",
    "#np.random.seed(0)\n",
    "for folder in folders:\n",
    "    cur_folder = os.path.join(img_root, folder)\n",
    "    files = os.listdir(cur_folder)\n",
    "    for f in files:\n",
    "        cur_file = os.path.join(cur_folder, f)\n",
    "        temp = np.load(cur_file)\n",
    "        ran = np.random.randint(5)\n",
    "        \n",
    "        if(ran==0):\n",
    "            fold_0.append([cur_file])\n",
    "        elif(ran==1):\n",
    "            fold_1.append([cur_file])\n",
    "        elif(ran==2):\n",
    "            fold_2.append([cur_file])\n",
    "        elif(ran==3):\n",
    "            fold_3.append([cur_file])\n",
    "        elif(ran==4):\n",
    "            fold_4.append([cur_file])\n",
    "        \n",
    "# test_list = np.asarray(test_list)\n",
    "# train_list = np.asarray(train_list)"
   ]
  },
  {
   "cell_type": "code",
   "execution_count": 5,
   "metadata": {},
   "outputs": [],
   "source": [
    "UT.write_csv(os.path.join(img_root, 'fold_CNvsAD_0.csv'), fold_0)\n",
    "UT.write_csv(os.path.join(img_root, 'fold_CNvsAD_1.csv'), fold_1)\n",
    "UT.write_csv(os.path.join(img_root, 'fold_CNvsAD_2.csv'), fold_2)\n",
    "UT.write_csv(os.path.join(img_root, 'fold_CNvsAD_3.csv'), fold_3)\n",
    "UT.write_csv(os.path.join(img_root, 'fold_CNvsAD_4.csv'), fold_4)"
   ]
  },
  {
   "cell_type": "code",
   "execution_count": null,
   "metadata": {},
   "outputs": [],
   "source": []
  }
 ],
 "metadata": {
  "kernelspec": {
   "display_name": "Python 3",
   "language": "python",
   "name": "python3"
  },
  "language_info": {
   "codemirror_mode": {
    "name": "ipython",
    "version": 3
   },
   "file_extension": ".py",
   "mimetype": "text/x-python",
   "name": "python",
   "nbconvert_exporter": "python",
   "pygments_lexer": "ipython3",
   "version": "3.6.8"
  }
 },
 "nbformat": 4,
 "nbformat_minor": 2
}
