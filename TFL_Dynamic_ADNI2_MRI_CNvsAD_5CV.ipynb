{
 "cells": [
  {
   "cell_type": "code",
   "execution_count": 1,
   "metadata": {},
   "outputs": [
    {
     "name": "stderr",
     "output_type": "stream",
     "text": [
      "Using TensorFlow backend.\n"
     ]
    }
   ],
   "source": [
    "import os\n",
    "import keras\n",
    "import numpy as np\n",
    "import pandas as pd\n",
    "import matplotlib.pyplot as plt; \n",
    " \n",
    "# Importing sklearn libraries\n",
    "from sklearn.model_selection import GridSearchCV\n",
    "from sklearn.linear_model import LogisticRegression\n",
    "from sklearn.metrics import confusion_matrix, accuracy_score\n",
    " \n",
    "# Importing hypopt library for grid search\n",
    "#from hypopt import GridSearch\n",
    " \n",
    "# Importing Keras libraries\n",
    "from keras.utils import np_utils\n",
    "from keras.models import Sequential\n",
    "from keras.applications import VGG16, MobileNet, ResNet50,MobileNetV2,InceptionV3,Xception\n",
    "\n",
    "from keras.applications import imagenet_utils\n",
    "from keras.callbacks import ModelCheckpoint\n",
    "from keras.preprocessing.image import load_img\n",
    "from keras.preprocessing.image import img_to_array\n",
    "from keras.layers import Dense, Conv2D, MaxPooling2D,Input\n",
    "from keras.layers import Dropout, Flatten, GlobalAveragePooling2D\n",
    "from keras.models import load_model\n",
    "import keras.backend as K\n",
    "from keras.models import Model\n",
    "\n",
    "import cv2"
   ]
  },
  {
   "cell_type": "code",
   "execution_count": 2,
   "metadata": {},
   "outputs": [
    {
     "name": "stdout",
     "output_type": "stream",
     "text": [
      "[INFO] loading network...\n",
      "WARNING:tensorflow:From /home/xxing/anaconda3/envs/myenv3/lib/python3.6/site-packages/tensorflow/python/framework/op_def_library.py:263: colocate_with (from tensorflow.python.framework.ops) is deprecated and will be removed in a future version.\n",
      "Instructions for updating:\n",
      "Colocations handled automatically by placer.\n"
     ]
    },
    {
     "name": "stderr",
     "output_type": "stream",
     "text": [
      "/home/xxing/anaconda3/envs/myenv3/lib/python3.6/site-packages/keras_applications/mobilenet.py:208: UserWarning: MobileNet shape is undefined. Weights for input shape (224, 224) will be loaded.\n",
      "  warnings.warn('MobileNet shape is undefined.'\n"
     ]
    },
    {
     "name": "stdout",
     "output_type": "stream",
     "text": [
      "_________________________________________________________________\n",
      "Layer (type)                 Output Shape              Param #   \n",
      "=================================================================\n",
      "input_1 (InputLayer)         (None, 110, 110, 3)       0         \n",
      "_________________________________________________________________\n",
      "conv1_pad (ZeroPadding2D)    (None, 111, 111, 3)       0         \n",
      "_________________________________________________________________\n",
      "conv1 (Conv2D)               (None, 55, 55, 32)        864       \n",
      "_________________________________________________________________\n",
      "conv1_bn (BatchNormalization (None, 55, 55, 32)        128       \n",
      "_________________________________________________________________\n",
      "conv1_relu (ReLU)            (None, 55, 55, 32)        0         \n",
      "_________________________________________________________________\n",
      "conv_dw_1 (DepthwiseConv2D)  (None, 55, 55, 32)        288       \n",
      "_________________________________________________________________\n",
      "conv_dw_1_bn (BatchNormaliza (None, 55, 55, 32)        128       \n",
      "_________________________________________________________________\n",
      "conv_dw_1_relu (ReLU)        (None, 55, 55, 32)        0         \n",
      "_________________________________________________________________\n",
      "conv_pw_1 (Conv2D)           (None, 55, 55, 64)        2048      \n",
      "_________________________________________________________________\n",
      "conv_pw_1_bn (BatchNormaliza (None, 55, 55, 64)        256       \n",
      "_________________________________________________________________\n",
      "conv_pw_1_relu (ReLU)        (None, 55, 55, 64)        0         \n",
      "_________________________________________________________________\n",
      "conv_pad_2 (ZeroPadding2D)   (None, 56, 56, 64)        0         \n",
      "_________________________________________________________________\n",
      "conv_dw_2 (DepthwiseConv2D)  (None, 27, 27, 64)        576       \n",
      "_________________________________________________________________\n",
      "conv_dw_2_bn (BatchNormaliza (None, 27, 27, 64)        256       \n",
      "_________________________________________________________________\n",
      "conv_dw_2_relu (ReLU)        (None, 27, 27, 64)        0         \n",
      "_________________________________________________________________\n",
      "conv_pw_2 (Conv2D)           (None, 27, 27, 128)       8192      \n",
      "_________________________________________________________________\n",
      "conv_pw_2_bn (BatchNormaliza (None, 27, 27, 128)       512       \n",
      "_________________________________________________________________\n",
      "conv_pw_2_relu (ReLU)        (None, 27, 27, 128)       0         \n",
      "_________________________________________________________________\n",
      "conv_dw_3 (DepthwiseConv2D)  (None, 27, 27, 128)       1152      \n",
      "_________________________________________________________________\n",
      "conv_dw_3_bn (BatchNormaliza (None, 27, 27, 128)       512       \n",
      "_________________________________________________________________\n",
      "conv_dw_3_relu (ReLU)        (None, 27, 27, 128)       0         \n",
      "_________________________________________________________________\n",
      "conv_pw_3 (Conv2D)           (None, 27, 27, 128)       16384     \n",
      "_________________________________________________________________\n",
      "conv_pw_3_bn (BatchNormaliza (None, 27, 27, 128)       512       \n",
      "_________________________________________________________________\n",
      "conv_pw_3_relu (ReLU)        (None, 27, 27, 128)       0         \n",
      "_________________________________________________________________\n",
      "conv_pad_4 (ZeroPadding2D)   (None, 28, 28, 128)       0         \n",
      "_________________________________________________________________\n",
      "conv_dw_4 (DepthwiseConv2D)  (None, 13, 13, 128)       1152      \n",
      "_________________________________________________________________\n",
      "conv_dw_4_bn (BatchNormaliza (None, 13, 13, 128)       512       \n",
      "_________________________________________________________________\n",
      "conv_dw_4_relu (ReLU)        (None, 13, 13, 128)       0         \n",
      "_________________________________________________________________\n",
      "conv_pw_4 (Conv2D)           (None, 13, 13, 256)       32768     \n",
      "_________________________________________________________________\n",
      "conv_pw_4_bn (BatchNormaliza (None, 13, 13, 256)       1024      \n",
      "_________________________________________________________________\n",
      "conv_pw_4_relu (ReLU)        (None, 13, 13, 256)       0         \n",
      "_________________________________________________________________\n",
      "conv_dw_5 (DepthwiseConv2D)  (None, 13, 13, 256)       2304      \n",
      "_________________________________________________________________\n",
      "conv_dw_5_bn (BatchNormaliza (None, 13, 13, 256)       1024      \n",
      "_________________________________________________________________\n",
      "conv_dw_5_relu (ReLU)        (None, 13, 13, 256)       0         \n",
      "_________________________________________________________________\n",
      "conv_pw_5 (Conv2D)           (None, 13, 13, 256)       65536     \n",
      "_________________________________________________________________\n",
      "conv_pw_5_bn (BatchNormaliza (None, 13, 13, 256)       1024      \n",
      "_________________________________________________________________\n",
      "conv_pw_5_relu (ReLU)        (None, 13, 13, 256)       0         \n",
      "_________________________________________________________________\n",
      "conv_pad_6 (ZeroPadding2D)   (None, 14, 14, 256)       0         \n",
      "_________________________________________________________________\n",
      "conv_dw_6 (DepthwiseConv2D)  (None, 6, 6, 256)         2304      \n",
      "_________________________________________________________________\n",
      "conv_dw_6_bn (BatchNormaliza (None, 6, 6, 256)         1024      \n",
      "_________________________________________________________________\n",
      "conv_dw_6_relu (ReLU)        (None, 6, 6, 256)         0         \n",
      "_________________________________________________________________\n",
      "conv_pw_6 (Conv2D)           (None, 6, 6, 512)         131072    \n",
      "_________________________________________________________________\n",
      "conv_pw_6_bn (BatchNormaliza (None, 6, 6, 512)         2048      \n",
      "_________________________________________________________________\n",
      "conv_pw_6_relu (ReLU)        (None, 6, 6, 512)         0         \n",
      "_________________________________________________________________\n",
      "conv_dw_7 (DepthwiseConv2D)  (None, 6, 6, 512)         4608      \n",
      "_________________________________________________________________\n",
      "conv_dw_7_bn (BatchNormaliza (None, 6, 6, 512)         2048      \n",
      "_________________________________________________________________\n",
      "conv_dw_7_relu (ReLU)        (None, 6, 6, 512)         0         \n",
      "_________________________________________________________________\n",
      "conv_pw_7 (Conv2D)           (None, 6, 6, 512)         262144    \n",
      "_________________________________________________________________\n",
      "conv_pw_7_bn (BatchNormaliza (None, 6, 6, 512)         2048      \n",
      "_________________________________________________________________\n",
      "conv_pw_7_relu (ReLU)        (None, 6, 6, 512)         0         \n",
      "_________________________________________________________________\n",
      "conv_dw_8 (DepthwiseConv2D)  (None, 6, 6, 512)         4608      \n",
      "_________________________________________________________________\n",
      "conv_dw_8_bn (BatchNormaliza (None, 6, 6, 512)         2048      \n",
      "_________________________________________________________________\n",
      "conv_dw_8_relu (ReLU)        (None, 6, 6, 512)         0         \n",
      "_________________________________________________________________\n",
      "conv_pw_8 (Conv2D)           (None, 6, 6, 512)         262144    \n",
      "_________________________________________________________________\n",
      "conv_pw_8_bn (BatchNormaliza (None, 6, 6, 512)         2048      \n",
      "_________________________________________________________________\n",
      "conv_pw_8_relu (ReLU)        (None, 6, 6, 512)         0         \n",
      "_________________________________________________________________\n",
      "conv_dw_9 (DepthwiseConv2D)  (None, 6, 6, 512)         4608      \n",
      "_________________________________________________________________\n",
      "conv_dw_9_bn (BatchNormaliza (None, 6, 6, 512)         2048      \n",
      "_________________________________________________________________\n",
      "conv_dw_9_relu (ReLU)        (None, 6, 6, 512)         0         \n",
      "_________________________________________________________________\n",
      "conv_pw_9 (Conv2D)           (None, 6, 6, 512)         262144    \n",
      "_________________________________________________________________\n",
      "conv_pw_9_bn (BatchNormaliza (None, 6, 6, 512)         2048      \n",
      "_________________________________________________________________\n",
      "conv_pw_9_relu (ReLU)        (None, 6, 6, 512)         0         \n",
      "_________________________________________________________________\n",
      "conv_dw_10 (DepthwiseConv2D) (None, 6, 6, 512)         4608      \n",
      "_________________________________________________________________\n",
      "conv_dw_10_bn (BatchNormaliz (None, 6, 6, 512)         2048      \n",
      "_________________________________________________________________\n",
      "conv_dw_10_relu (ReLU)       (None, 6, 6, 512)         0         \n",
      "_________________________________________________________________\n",
      "conv_pw_10 (Conv2D)          (None, 6, 6, 512)         262144    \n",
      "_________________________________________________________________\n",
      "conv_pw_10_bn (BatchNormaliz (None, 6, 6, 512)         2048      \n",
      "_________________________________________________________________\n",
      "conv_pw_10_relu (ReLU)       (None, 6, 6, 512)         0         \n",
      "_________________________________________________________________\n",
      "conv_dw_11 (DepthwiseConv2D) (None, 6, 6, 512)         4608      \n",
      "_________________________________________________________________\n",
      "conv_dw_11_bn (BatchNormaliz (None, 6, 6, 512)         2048      \n",
      "_________________________________________________________________\n",
      "conv_dw_11_relu (ReLU)       (None, 6, 6, 512)         0         \n",
      "_________________________________________________________________\n",
      "conv_pw_11 (Conv2D)          (None, 6, 6, 512)         262144    \n",
      "_________________________________________________________________\n",
      "conv_pw_11_bn (BatchNormaliz (None, 6, 6, 512)         2048      \n",
      "=================================================================\n",
      "Total params: 1,627,840\n",
      "Trainable params: 1,613,120\n",
      "Non-trainable params: 14,720\n",
      "_________________________________________________________________\n"
     ]
    }
   ],
   "source": [
    "os.environ[\"CUDA_VISIBLE_DEVICES\"]=\"5\"\n",
    "\n",
    "print(\"[INFO] loading network...\")\n",
    " \n",
    "# chop the top dense layers, include_top=False\n",
    "#model = VGG16(weights=\"imagenet\", include_top=False,input_tensor=Input(shape=(110, 110, 3)))\n",
    "model = MobileNet(weights=\"imagenet\", include_top=False,input_tensor=Input(shape=(110, 110, 3)))\n",
    "#model = MobileNetV2(weights=\"imagenet\", include_top=False,input_tensor=Input(shape=(110, 110, 3)))\n",
    "#model = Xception(weights=\"imagenet\", include_top=False,input_tensor=Input(shape=(110, 110, 3)))\n",
    "#model = ResNet50(weights=\"imagenet\", include_top=False,input_tensor=Input(shape=(110, 110, 3)))\n",
    "model.layers.pop()\n",
    "model = Model(inputs=model.inputs, outputs=model.layers[-14].output)\n",
    "model.summary()"
   ]
  },
  {
   "cell_type": "code",
   "execution_count": 3,
   "metadata": {},
   "outputs": [],
   "source": [
    "#data input:\n",
    "X=np.load('/data/scratch/xxing/adni_dl/CN_AD_Dynamic_ADNI2_MRI_data_3d.npy')\n",
    "X=X/255.0\n",
    "y=np.load('/data/scratch/xxing/adni_dl/CN_AD_Dynamic_ADNI2_MRI_label.npy')\n"
   ]
  },
  {
   "cell_type": "code",
   "execution_count": 4,
   "metadata": {},
   "outputs": [
    {
     "name": "stdout",
     "output_type": "stream",
     "text": [
      "(99, 6, 6, 512)\n"
     ]
    },
    {
     "data": {
      "text/plain": [
       "'\\nfrom sklearn.model_selection import train_test_split\\ntrain_features, test_features, y_train, y_test = train_test_split(features, y, test_size=0.2, random_state=32) \\n\\n\\n# convert class vectors to binary class matrices\\nY_train = np_utils.to_categorical(y_train, num_classes)\\nY_test = np_utils.to_categorical(y_test, num_classes)\\n'"
      ]
     },
     "execution_count": 4,
     "metadata": {},
     "output_type": "execute_result"
    }
   ],
   "source": [
    "bs=8\n",
    "num_classes=2\n",
    "\n",
    " \n",
    "X_features = model.predict(X, batch_size=32)\n",
    "print(X_features.shape)\n",
    "\n",
    "#Y=np_utils.to_categorical(y, num_classes)\n",
    "\"\"\"\n",
    "from sklearn.model_selection import train_test_split\n",
    "train_features, test_features, y_train, y_test = train_test_split(features, y, test_size=0.2, random_state=32) \n",
    "\n",
    "\n",
    "# convert class vectors to binary class matrices\n",
    "Y_train = np_utils.to_categorical(y_train, num_classes)\n",
    "Y_test = np_utils.to_categorical(y_test, num_classes)\n",
    "\"\"\""
   ]
  },
  {
   "cell_type": "code",
   "execution_count": 5,
   "metadata": {},
   "outputs": [],
   "source": [
    "#K-fold cross validation\n",
    "from sklearn.model_selection import StratifiedKFold\n",
    "seed=9\n",
    "kfold = StratifiedKFold(n_splits=5, shuffle=True, random_state=seed)"
   ]
  },
  {
   "cell_type": "code",
   "execution_count": 6,
   "metadata": {
    "scrolled": true
   },
   "outputs": [
    {
     "name": "stdout",
     "output_type": "stream",
     "text": [
      "WARNING:tensorflow:From /home/xxing/anaconda3/envs/myenv3/lib/python3.6/site-packages/keras/backend/tensorflow_backend.py:3445: calling dropout (from tensorflow.python.ops.nn_ops) with keep_prob is deprecated and will be removed in a future version.\n",
      "Instructions for updating:\n",
      "Please use `rate` instead of `keep_prob`. Rate should be set to `rate = 1 - keep_prob`.\n",
      "WARNING:tensorflow:From /home/xxing/anaconda3/envs/myenv3/lib/python3.6/site-packages/tensorflow/python/ops/math_ops.py:3066: to_int32 (from tensorflow.python.ops.math_ops) is deprecated and will be removed in a future version.\n",
      "Instructions for updating:\n",
      "Use tf.cast instead.\n",
      "acc: 80.00%\n",
      "acc: 90.00%\n",
      "acc: 85.00%\n",
      "acc: 75.00%\n",
      "acc: 84.21%\n",
      "82.84% (+/- 5.05%)\n"
     ]
    }
   ],
   "source": [
    "import gc\n",
    "cvscores = []\n",
    "i=0\n",
    "for train, test in kfold.split(X_features, y):\n",
    "    #classifier\n",
    "    \n",
    "    model_transfer = Sequential()\n",
    "    \n",
    "    #model_transfer.add(GlobalAveragePooling2D(input_shape=X_features.shape[1:]))\n",
    "    model_transfer.add(Conv2D(512, kernel_size = (1,1), padding = 'same', activation = 'relu'))\n",
    "    model_transfer.add(Conv2D(256, kernel_size = (1,1), padding = 'same', activation = 'relu'))\n",
    "    model_transfer.add(Conv2D(128, kernel_size = (1,1), padding = 'same', activation = 'relu'))\n",
    "    model_transfer.add(Flatten())\n",
    "    model_transfer.add(Dense(512, activation='relu'))\n",
    "    model_transfer.add(Dropout(0.7))\n",
    "    model_transfer.add(Dense(64, activation='relu'))\n",
    "    model_transfer.add(Dense(1, activation='sigmoid'))\n",
    "    #model_transfer.summary()\n",
    "    opt = keras.optimizers.Adam(lr=0.0001, beta_1=0.9, beta_2=0.999, amsgrad=True)\n",
    "    model_transfer.compile(loss='binary_crossentropy', optimizer=opt,\n",
    "              metrics=['accuracy'])\n",
    "    # Creating a checkpointer\n",
    "    checkpointer = ModelCheckpoint(filepath='TFL_Dynamic_MRI_CNvsAD_.best_'+str(i)+'.hdf5',\n",
    "                               verbose=0,save_best_only=True,monitor='val_acc', mode='max')\n",
    "\n",
    "    history = model_transfer.fit(X_features[train], y[train], batch_size=32, epochs=200,\n",
    "          validation_data=(X_features[test], y[test]), callbacks=[checkpointer],\n",
    "          verbose=0, shuffle=True)\n",
    "    # evaluate the model\n",
    "    modelpath='TFL_Dynamic_MRI_CNvsAD_.best_'+str(i)+'.hdf5'\n",
    "    model_evaluate = load_model(modelpath)\n",
    "\n",
    "    scores = model_evaluate.evaluate(X_features[test], y[test], verbose=0)\n",
    "    print(\"%s: %.2f%%\" % (model_evaluate.metrics_names[1], scores[1]*100))\n",
    "    cvscores.append(scores[1] * 100)\n",
    "    i=i+1\n",
    "    \n",
    "    K.clear_session()\n",
    "    gc.collect()\n",
    "print(\"%.2f%% (+/- %.2f%%)\" % (np.mean(cvscores), np.std(cvscores)))\n",
    "    "
   ]
  },
  {
   "cell_type": "code",
   "execution_count": 7,
   "metadata": {},
   "outputs": [
    {
     "data": {
      "text/plain": [
       "\"\\n# Creating a checkpointer\\ncheckpointer = ModelCheckpoint(filepath='test.best.hdf5',\\n                               verbose=1,save_best_only=True,monitor='val_acc', mode='max')\\n\\nhistory = model_transfer.fit(train_features, Y_train, batch_size=bs, epochs=100,\\n          validation_data=(test_features, Y_test), callbacks=[checkpointer],\\n          verbose=0, shuffle=True)\\n\""
      ]
     },
     "execution_count": 7,
     "metadata": {},
     "output_type": "execute_result"
    }
   ],
   "source": [
    "\"\"\"\n",
    "# Creating a checkpointer\n",
    "checkpointer = ModelCheckpoint(filepath='test.best.hdf5',\n",
    "                               verbose=1,save_best_only=True,monitor='val_acc', mode='max')\n",
    "\n",
    "history = model_transfer.fit(train_features, Y_train, batch_size=bs, epochs=100,\n",
    "          validation_data=(test_features, Y_test), callbacks=[checkpointer],\n",
    "          verbose=0, shuffle=True)\n",
    "\"\"\""
   ]
  },
  {
   "cell_type": "code",
   "execution_count": 8,
   "metadata": {},
   "outputs": [
    {
     "data": {
      "text/plain": [
       "'\\nimport matplotlib.pyplot as plt\\nprint(features.shape)\\nprint(features[0,:,:,0])\\nplt.imshow(features[0,:,:,120])\\n'"
      ]
     },
     "execution_count": 8,
     "metadata": {},
     "output_type": "execute_result"
    }
   ],
   "source": [
    "\"\"\"\n",
    "import matplotlib.pyplot as plt\n",
    "print(features.shape)\n",
    "print(features[0,:,:,0])\n",
    "plt.imshow(features[0,:,:,120])\n",
    "\"\"\""
   ]
  }
 ],
 "metadata": {
  "kernelspec": {
   "display_name": "Python 3",
   "language": "python",
   "name": "python3"
  },
  "language_info": {
   "codemirror_mode": {
    "name": "ipython",
    "version": 3
   },
   "file_extension": ".py",
   "mimetype": "text/x-python",
   "name": "python",
   "nbconvert_exporter": "python",
   "pygments_lexer": "ipython3",
   "version": "3.6.8"
  }
 },
 "nbformat": 4,
 "nbformat_minor": 2
}
