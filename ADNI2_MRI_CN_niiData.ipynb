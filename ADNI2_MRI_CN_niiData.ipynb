{
 "cells": [
  {
   "cell_type": "code",
   "execution_count": 1,
   "metadata": {},
   "outputs": [],
   "source": [
    "import os\n",
    "import glob\n",
    "import numpy as np\n",
    "import SimpleITK as sitk\n",
    "import nibabel as nib\n",
    "\n",
    "import matplotlib.pyplot as plt \n",
    "\n",
    "path=\"/data/scratch/xxing/adni_dl/ADNI2_MRI_CN/\"\n",
    "\n",
    "file=glob.glob(path+\"*/*/*/\")\n",
    "file_p=glob.glob(path+\"*\")\n",
    "\n",
    "out_file=\"/data/scratch/xxing/adni_dl/Preprocessed/ADNI2_MRI/CN/\""
   ]
  },
  {
   "cell_type": "code",
   "execution_count": 2,
   "metadata": {},
   "outputs": [
    {
     "name": "stdout",
     "output_type": "stream",
     "text": [
      "(110, 110, 110, 1)\n",
      "(110, 110, 110, 1)\n",
      "(110, 110, 110, 1)\n",
      "(110, 110, 110, 1)\n",
      "(110, 110, 110, 1)\n",
      "(110, 110, 110, 1)\n",
      "(110, 110, 110, 1)\n",
      "(110, 110, 110, 1)\n",
      "(110, 110, 110, 1)\n",
      "(110, 110, 110, 1)\n",
      "(110, 110, 110, 1)\n",
      "(110, 110, 110, 1)\n",
      "(110, 110, 110, 1)\n",
      "(110, 110, 110, 1)\n",
      "(110, 110, 110, 1)\n",
      "(110, 110, 110, 1)\n",
      "(110, 110, 110, 1)\n",
      "(110, 110, 110, 1)\n",
      "(110, 110, 110, 1)\n",
      "(110, 110, 110, 1)\n",
      "(110, 110, 110, 1)\n",
      "(110, 110, 110, 1)\n",
      "(110, 110, 110, 1)\n",
      "(110, 110, 110, 1)\n",
      "(110, 110, 110, 1)\n",
      "(110, 110, 110, 1)\n",
      "(110, 110, 110, 1)\n",
      "(110, 110, 110, 1)\n",
      "(110, 110, 110, 1)\n",
      "(110, 110, 110, 1)\n",
      "(110, 110, 110, 1)\n",
      "(110, 110, 110, 1)\n",
      "(110, 110, 110, 1)\n",
      "(110, 110, 110, 1)\n",
      "(110, 110, 110, 1)\n",
      "(110, 110, 110, 1)\n",
      "(110, 110, 110, 1)\n",
      "(110, 110, 110, 1)\n",
      "(110, 110, 110, 1)\n",
      "(110, 110, 110, 1)\n",
      "(110, 110, 110, 1)\n",
      "(110, 110, 110, 1)\n",
      "(110, 110, 110, 1)\n",
      "(110, 110, 110, 1)\n",
      "(110, 110, 110, 1)\n",
      "(110, 110, 110, 1)\n",
      "(110, 110, 110, 1)\n",
      "(110, 110, 110, 1)\n",
      "(110, 110, 110, 1)\n",
      "(110, 110, 110, 1)\n",
      "50\n",
      "done\n"
     ]
    }
   ],
   "source": [
    "if not os.path.isdir(out_file):\n",
    "    os.makedirs(out_file)\n",
    "\n",
    "#d2list=[]\n",
    "\n",
    "d3list=[]\n",
    "labellist=[]\n",
    "for f, j in zip(file, file_p):\n",
    "    #print(f)\n",
    "    imgfile=glob.glob(f+\"*/*.nii\")\n",
    "    imgfile_p=glob.glob(j)\n",
    "    \n",
    "    pid=os.path.basename(imgfile_p[0])\n",
    "    \n",
    "    subject = os.path.basename(imgfile[0])\n",
    "    count=len(imgfile)\n",
    "    if count>1:\n",
    "        img = nib.load(imgfile[0])\n",
    "        imgdata=img.get_fdata()\n",
    "        imgdata=np.squeeze(imgdata)\n",
    "        sum=np.zeros(imgdata.shape, dtype=np.float32)\n",
    "        for i in range(count):    \n",
    "            img = nib.load(imgfile[i])\n",
    "            imgdata=img.get_fdata()\n",
    "            imgdata=np.squeeze(imgdata)\n",
    "            sum=sum+imgdata\n",
    "        result=sum/count\n",
    "        print('strange test:' +f)\n",
    "        \n",
    "    else:\n",
    "        img = nib.load(imgfile[0])\n",
    "        imgdata=img.get_fdata()\n",
    "        \n",
    "        #data=np.transpose(imgdata,(2,0,1,3))\n",
    "        #print(data.shape)\n",
    "        data = np.expand_dims(imgdata, axis=3)\n",
    "        print(data.shape)\n",
    "        #imgdata=np.squeeze(imgdata)\n",
    "        result3d=data\n",
    "        #result2d=imgdata \n",
    "        if np.isnan(result3d).any():\n",
    "            print(f)\n",
    "    #d2list.append(result2d)\n",
    "    d3list.append(result3d)\n",
    "    labellist.append(1)\n",
    "    os.makedirs(out_file+pid+\"/\")\n",
    "    #save for the 3d version data (T, H, W, C)\n",
    "    np.save((out_file+pid+\"/\"+pid+\".npy\"),result3d)  \n",
    "print(len(d3list))\n",
    "#save the all the patients in one npy file\n",
    "d3data=np.asarray(d3list)\n",
    "np.save('/data/scratch/xxing/adni_dl/ADNI2_MRI_CN_data_3d.npy', d3data)\n",
    "print(\"done\")"
   ]
  },
  {
   "cell_type": "code",
   "execution_count": 3,
   "metadata": {},
   "outputs": [],
   "source": [
    "CN_label=np.zeros((50,1))\n",
    "np.save('/data/scratch/xxing/adni_dl/ADNI2_MRI_CN_label.npy', CN_label)"
   ]
  },
  {
   "cell_type": "code",
   "execution_count": 4,
   "metadata": {},
   "outputs": [
    {
     "data": {
      "text/plain": [
       "(145, 1)"
      ]
     },
     "execution_count": 4,
     "metadata": {},
     "output_type": "execute_result"
    }
   ],
   "source": [
    "a=np.load('/data/scratch/xxing/adni_dl/AD_FDG_label.npy')\n",
    "a.shape"
   ]
  }
 ],
 "metadata": {
  "kernelspec": {
   "display_name": "Python 3",
   "language": "python",
   "name": "python3"
  },
  "language_info": {
   "codemirror_mode": {
    "name": "ipython",
    "version": 3
   },
   "file_extension": ".py",
   "mimetype": "text/x-python",
   "name": "python",
   "nbconvert_exporter": "python",
   "pygments_lexer": "ipython3",
   "version": "3.6.8"
  }
 },
 "nbformat": 4,
 "nbformat_minor": 2
}
