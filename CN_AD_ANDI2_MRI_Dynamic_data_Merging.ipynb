{
 "cells": [
  {
   "cell_type": "code",
   "execution_count": 1,
   "metadata": {},
   "outputs": [],
   "source": [
    "import numpy as np\n",
    "\n",
    "CN_data=np.load('/data/scratch/xxing/adni_dl/ADNI2_MRI_CN_Dynamic_data.npy')\n",
    "\n",
    "CN_label=np.load('/data/scratch/xxing/adni_dl/ADNI2_MRI_CN_label.npy')\n",
    "\n",
    "\n",
    "AD_data=np.load('/data/scratch/xxing/adni_dl/ADNI2_MRI_AD_Dynamic_data.npy')\n",
    "#LMCI labe is 3, for the binary classification with CN, we set it down as 1\n",
    "AD_label=np.load('/data/scratch/xxing/adni_dl/ADNI2_MRI_AD_label.npy')\n",
    "\n",
    "\n",
    "Merge_data=np.vstack((CN_data, AD_data))\n",
    "Merge_label=np.vstack((CN_label, AD_label))\n",
    "\n",
    "np.save('/data/scratch/xxing/adni_dl/CN_AD_Dynamic_ADNI2_MRI_data_3d.npy',Merge_data)\n",
    "\n",
    "np.save('/data/scratch/xxing/adni_dl/CN_AD_Dynamic_ADNI2_MRI_label.npy',Merge_label)"
   ]
  },
  {
   "cell_type": "code",
   "execution_count": 2,
   "metadata": {},
   "outputs": [
    {
     "data": {
      "text/plain": [
       "(99, 110, 110, 3)"
      ]
     },
     "execution_count": 2,
     "metadata": {},
     "output_type": "execute_result"
    }
   ],
   "source": [
    "a=np.load('/data/scratch/xxing/adni_dl/CN_AD_Dynamic_ADNI2_MRI_data_3d.npy')\n",
    "a.shape"
   ]
  },
  {
   "cell_type": "code",
   "execution_count": 3,
   "metadata": {},
   "outputs": [
    {
     "data": {
      "text/plain": [
       "255"
      ]
     },
     "execution_count": 3,
     "metadata": {},
     "output_type": "execute_result"
    }
   ],
   "source": [
    "np.max(a)"
   ]
  }
 ],
 "metadata": {
  "kernelspec": {
   "display_name": "Python 3",
   "language": "python",
   "name": "python3"
  },
  "language_info": {
   "codemirror_mode": {
    "name": "ipython",
    "version": 3
   },
   "file_extension": ".py",
   "mimetype": "text/x-python",
   "name": "python",
   "nbconvert_exporter": "python",
   "pygments_lexer": "ipython3",
   "version": "3.6.8"
  }
 },
 "nbformat": 4,
 "nbformat_minor": 2
}
